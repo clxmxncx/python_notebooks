{
 "cells": [
  {
   "cell_type": "code",
   "execution_count": 24,
   "metadata": {},
   "outputs": [
    {
     "data": {
      "image/png": "[encoded data removed]",
      "text/plain": [
       "<matplotlib.figure.Figure at 0x7feef495cf98>"
      ]
     },
     "metadata": {},
     "output_type": "display_data"
    }
   ],
   "source": [
    "import matplotlib.pyplot as plt\n",
    "\n",
    "def fibo(n):\n",
    "    if n==1:\n",
    "        return[1]\n",
    "    if n==2:\n",
    "        return[1,1]\n",
    "    a=1\n",
    "    b=1\n",
    "    suite = [a,b]\n",
    "    for i in range(n):\n",
    "        c = a+b\n",
    "        suite.append(c)\n",
    "        a=b\n",
    "        b=c\n",
    "    return suite\n",
    "\n",
    "def graphique(suite):\n",
    "    plt.xlabel(\"No\")\n",
    "    plt.ylabel(\"Rapport\")\n",
    "    plt.title(\"Rapport entre deux nombres de fibonacci consécutifs\")\n",
    "\n",
    "    \n",
    "    nombres_y = []\n",
    "   \n",
    "    suitesansdernier = suite[0:-1]\n",
    "    for idx, elt in enumerate(suitesansdernier):\n",
    "        nombres_y.append(suite[idx + 1]/suite[idx])\n",
    " \n",
    "        #     nombres_y = []\n",
    "#     for i in range (100):\n",
    "#         j = i+1\n",
    "#         y = suite[j]/suite[i]\n",
    "#         nombres_y.append(y)\n",
    "\n",
    "    plt.plot(nombres_y)\n",
    "    plt.show()\n",
    "    \n",
    "suite = fibo(100)\n",
    "graphique(suite)"
   ]
  }
 ],
 "metadata": {
  "kernelspec": {
   "display_name": "Python 3",
   "language": "python",
   "name": "python3"
  },
  "language_info": {
   "codemirror_mode": {
    "name": "ipython",
    "version": 3
   },
   "file_extension": ".py",
   "mimetype": "text/x-python",
   "name": "python",
   "nbconvert_exporter": "python",
   "pygments_lexer": "ipython3",
   "version": "3.6.2"
  }
 },
 "nbformat": 4,
 "nbformat_minor": 2
}
