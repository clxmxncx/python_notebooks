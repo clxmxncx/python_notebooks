{
 "cells": [
  {
   "cell_type": "markdown",
   "metadata": {},
   "source": [
    "http://exo7.emath.fr/cours/livre-python1.pdf page 143\n",
    "\n",
    "https://github.com/exo7math/python1-exo7/blob/master/vie/vie.pdf\n"
   ]
  },
  {
   "cell_type": "markdown",
   "metadata": {},
   "source": [
    "**Le Jeu De La Vie**"
   ]
  },
  {
   "cell_type": "markdown",
   "metadata": {},
   "source": [
    "    Le jeu de la vie est un modèle simple de l’évolution d’une population de cellules qui naissent et\n",
    "    meurent au cours du temps. Le « jeu » consiste à trouver des configurations initiales qui donnent des\n",
    "    évolutions intéressantes : certains groupes de cellules disparaissent, d’autres se stabilisent, certains se\n",
    "    déplacent. . .\n",
    "\n",
    "\n",
    "**Presente** = 1, ROUGE\n",
    "\n",
    "**Absente** = 0, BLANC"
   ]
  },
  {
   "cell_type": "markdown",
   "metadata": {},
   "source": [
    "   **ACTIVITE 1**\n",
    "   \n",
    "Objectifs : définir et afficher des tableaux indexés par deux indices.\n"
   ]
  },
  {
   "cell_type": "code",
   "execution_count": 6,
   "metadata": {},
   "outputs": [
    {
     "name": "stdout",
     "output_type": "stream",
     "text": [
      "[[  0.  11.  11.  11.]\n",
      " [ 11.  11.  11.  11.]\n",
      " [ 11.  11.  11.  11.]]\n"
     ]
    }
   ],
   "source": [
    "tableau = np.ones(shape = (3,4))*11\n",
    "tableau[0][0] = 0\n",
    "# tab[0][1] = 0\n",
    "# tab[2][1] = 0\n",
    "print(tableau)\n"
   ]
  },
  {
   "cell_type": "markdown",
   "metadata": {},
   "source": [
    "**ACTIVITE 2**\n",
    "\n",
    "Objectifs : réaliser l’affichage graphique d’une configuration de cellules"
   ]
  },
  {
   "cell_type": "markdown",
   "metadata": {},
   "source": [
    "Tableau réalisé au hasard"
   ]
  },
  {
   "cell_type": "code",
   "execution_count": 7,
   "metadata": {},
   "outputs": [
    {
     "name": "stdout",
     "output_type": "stream",
     "text": [
      "tab [[ 0.  0.  0.  0.  0.]\n",
      " [ 0.  0.  0.  0.  0.]\n",
      " [ 0.  1.  1.  1.  0.]\n",
      " [ 0.  0.  0.  0.  0.]\n",
      " [ 0.  0.  0.  0.  0.]]\n",
      "shape (5, 5)\n"
     ]
    },
    {
     "data": {
      "image/png": "[encoded data removed]",
      "text/plain": [
       "<matplotlib.figure.Figure at 0x7fe40ed7e320>"
      ]
     },
     "metadata": {},
     "output_type": "display_data"
    }
   ],
   "source": [
    "import numpy as np\n",
    "import matplotlib.pyplot as plt\n",
    "from matplotlib import colors\n",
    "\n",
    "# VARIABLES GLOBALES (on verra plus tard comment s'en passer)\n",
    "PRESENTE = 1\n",
    "ABSENTE = 0\n",
    "\n",
    "\n",
    "tab = np.zeros(shape = (5,5))\n",
    "tab[2,1] = 1\n",
    "tab[2,2] = 1\n",
    "tab[2,3] = 1\n",
    "\n",
    "print('tab', tab)\n",
    "print('shape', tab.shape)\n",
    "\n",
    "\n",
    "def affichage_cells(tab):\n",
    "    \n",
    "    n, p = tab.shape\n",
    "    \n",
    "    im = plt.imshow(tab,\n",
    "                    cmap=colors.ListedColormap(['white','red']));\n",
    "    ax = plt.gca();\n",
    "\n",
    "    # Major ticks\n",
    "    ax.set_xticks(np.arange(0, p, 1));\n",
    "    ax.set_yticks(np.arange(0, n, 1));\n",
    "\n",
    "    # Minor ticks\n",
    "    ax.set_xticks(np.arange(-.5, p, 1), minor=True);\n",
    "    ax.set_yticks(np.arange(-.5, n, 1), minor=True);\n",
    "    \n",
    "    # Gridlines based on minor ticks\n",
    "    ax.grid(which='minor', color='k', linestyle='-', linewidth=2)\n",
    "    \n",
    "    \n",
    "affichage_cells(tab)"
   ]
  },
  {
   "cell_type": "markdown",
   "metadata": {},
   "source": [
    "Tableau réalisé sans hasard"
   ]
  },
  {
   "cell_type": "markdown",
   "metadata": {},
   "source": [
    "**ACTIVITE 3**\n",
    "\n",
    "Objectifs : calculer l’évolution d’une configuration au jour d’après"
   ]
  },
  {
   "cell_type": "code",
   "execution_count": 8,
   "metadata": {},
   "outputs": [
    {
     "name": "stdout",
     "output_type": "stream",
     "text": [
      "0\n"
     ]
    }
   ],
   "source": [
    "def nombre_voisins(i,j,tab):\n",
    "    compteur = 0\n",
    "    n,p = tab.shape\n",
    "    \n",
    "    if i-1 >-1 and j-1> -1:\n",
    "        if tab[i-1,j-1] == PRESENTE:\n",
    "            compteur +=1\n",
    "    if i-1 >-1:\n",
    "        if tab[i-1,j] == PRESENTE:\n",
    "            compteur += 1\n",
    "    if i-1 > -1 and j+1 < p:\n",
    "        if tab[i-1,j+1] == PRESENTE:\n",
    "            compteur += 1\n",
    "    if j-1 > -1:\n",
    "        if tab[i,j-1] == PRESENTE:\n",
    "            compteur += 1\n",
    "    if j+1 < p:\n",
    "        if tab[i,j+1] == PRESENTE:\n",
    "            compteur += 1\n",
    "    if i+1 < n and j-1>-1:\n",
    "        if tab[i+1,j-1] == PRESENTE:\n",
    "            compteur += 1\n",
    "    if i+1 < n:\n",
    "        if tab[i+1,j] == PRESENTE:\n",
    "            compteur += 1\n",
    "    if i+1 < n and j+1 < p:\n",
    "        if tab[i+1,j+1] == PRESENTE:\n",
    "            compteur += 1\n",
    "            \n",
    "    return compteur\n",
    "\n",
    "print(nombre_voisins(0,1,tab))"
   ]
  },
  {
   "cell_type": "code",
   "execution_count": 9,
   "metadata": {},
   "outputs": [
    {
     "data": {
      "image/png": "[encoded data removed]",
      "text/plain": [
       "<matplotlib.figure.Figure at 0x7fe40ed48208>"
      ]
     },
     "metadata": {},
     "output_type": "display_data"
    }
   ],
   "source": [
    "def evolution_un_jour(tab):\n",
    "   \n",
    "    n, p = tab.shape\n",
    "    new_tab = np.zeros(shape = (n,p))\n",
    "\n",
    "    for i in range (n):\n",
    "        for j in range(p):\n",
    "            if tab[i,j] == ABSENTE:\n",
    "                if nombre_voisins(i,j,tab) == 3:\n",
    "                    new_tab[i][j] = PRESENTE  # case vide et exacement trois voisins -> une naissance\n",
    "            else:\n",
    "                if nombre_voisins(i,j,tab) <= 1 or nombre_voisins(i,j,tab) >= 4:\n",
    "                    new_tab[i][j] = ABSENTE\n",
    "                else:\n",
    "                    new_tab[i][j] = PRESENTE\n",
    "                    # cellule entourée de 2 ou trois voisines: continue de vivre; sinon meurt\n",
    "    return new_tab\n",
    "\n",
    "\n",
    "def evolution(tab, jours):\n",
    "    for _ in range(jours):\n",
    "        tab = evolution_un_jour(tab)\n",
    "    return tab\n",
    "\n",
    "jours = 3\n",
    "# affichage_cells(tab_une_cellule)\n",
    "# affichage_cells(tab_cligno)\n",
    "# affichage_cells(evolution_pierre(tab_une_cellule, jours)) # fonctionne\n",
    "affichage_cells(evolution(tab, jours))\n",
    "\n"
   ]
  },
  {
   "cell_type": "code",
   "execution_count": 10,
   "metadata": {},
   "outputs": [
    {
     "data": {
      "image/png": "[encoded data removed]",
      "text/plain": [
       "<matplotlib.figure.Figure at 0x7fe434148048>"
      ]
     },
     "metadata": {},
     "output_type": "display_data"
    }
   ],
   "source": [
    "tableau = np.zeros(shape = (10,10))\n",
    "tableau[2,1] = 1\n",
    "tableau[2,2] = 1\n",
    "tableau[2,3] = 1\n",
    "tableau[4] = 1\n",
    "tableau[5,7] = tableau[8,8] = 1\n",
    "\n",
    "affichage_cells(evolution(tableau,jours))"
   ]
  },
  {
   "cell_type": "code",
   "execution_count": 20,
   "metadata": {},
   "outputs": [
    {
     "name": "stdout",
     "output_type": "stream",
     "text": [
      "Combien de jours ? : 3\n",
      "pressez la touche espace pour continuer\n",
      ">  \n",
      "[[ 0.  0.  0.  0.  0.]\n",
      " [ 0.  0.  0.  0.  0.]\n",
      " [ 0.  1.  1.  1.  0.]\n",
      " [ 0.  0.  0.  0.  0.]\n",
      " [ 0.  0.  0.  0.  0.]]\n",
      "pressez la touche espace pour continuer\n",
      ">  \n",
      "[[ 0.  0.  0.  0.  0.]\n",
      " [ 0.  0.  1.  0.  0.]\n",
      " [ 0.  0.  1.  0.  0.]\n",
      " [ 0.  0.  1.  0.  0.]\n",
      " [ 0.  0.  0.  0.  0.]]\n",
      "pressez la touche espace pour continuer\n",
      ">  \n",
      "[[ 0.  0.  0.  0.  0.]\n",
      " [ 0.  0.  0.  0.  0.]\n",
      " [ 0.  1.  1.  1.  0.]\n",
      " [ 0.  0.  0.  0.  0.]\n",
      " [ 0.  0.  0.  0.  0.]]\n"
     ]
    },
    {
     "data": {
      "image/png": "[encoded data removed]",
      "text/plain": [
       "<matplotlib.figure.Figure at 0x7fe40edae0b8>"
      ]
     },
     "metadata": {},
     "output_type": "display_data"
    }
   ],
   "source": [
    "def affichage_multiple(tabs):\n",
    "    m = len(tabs)\n",
    "    for i in range(m):\n",
    "        plt.subplot(m, 1, i+1)     # attention pour subplot: l'indiçage commence à 1\n",
    "        affichage_cells(tabs[i])\n",
    "        \n",
    "jours = int(input(\"Combien de jours ? : \"))\n",
    "tabs = []\n",
    "for i in range(jours):\n",
    "    print(\"pressez la touche espace pour continuer\")\n",
    "    choice = input(\"> \")\n",
    "    if choice == ' ' :\n",
    "        print(evolution(tab,i))\n",
    "        tabs.append(evolution(tab,i))\n",
    "affichage_multiple(tabs)\n",
    "    "
   ]
  }
 ],
 "metadata": {
  "kernelspec": {
   "display_name": "Python 3",
   "language": "python",
   "name": "python3"
  },
  "language_info": {
   "codemirror_mode": {
    "name": "ipython",
    "version": 3
   },
   "file_extension": ".py",
   "mimetype": "text/x-python",
   "name": "python",
   "nbconvert_exporter": "python",
   "pygments_lexer": "ipython3",
   "version": "3.6.2"
  }
 },
 "nbformat": 4,
 "nbformat_minor": 2
}
