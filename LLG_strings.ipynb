{
 "cells": [
  {
   "cell_type": "markdown",
   "metadata": {},
   "source": [
    "http://www.sci-phy.org/LLG/pdf/CI1-G-Chaines.pdf"
   ]
  },
  {
   "cell_type": "markdown",
   "metadata": {},
   "source": [
    "EXERCICE 1"
   ]
  },
  {
   "cell_type": "code",
   "execution_count": 1,
   "metadata": {},
   "outputs": [
    {
     "name": "stdout",
     "output_type": "stream",
     "text": [
      "                   ^\n",
      "                   ^\n",
      "                  ^^^\n",
      "                  ^^^\n",
      "                 ^^^^^\n",
      "                 ^^^^^\n",
      "                ^^^^^^^\n",
      "                ^^^^^^^\n",
      "               ^^^^^^^^^\n",
      "               ^^^^^^^^^\n",
      "              ^^^^^^^^^^^\n",
      "              ^^^^^^^^^^^\n",
      "             ^^^^^^^^^^^^^\n",
      "             ^^^^^^^^^^^^^\n",
      "            ^^^^^^^^^^^^^^^\n",
      "            ^^^^^^^^^^^^^^^\n",
      "           ^^^^^^^^^^^^^^^^^\n",
      "           ^^^^^^^^^^^^^^^^^\n",
      "          ^^^^^^^^^^^^^^^^^^^\n",
      "          ^^^^^^^^^^^^^^^^^^^\n",
      "                   H\n",
      "                   H\n"
     ]
    }
   ],
   "source": [
    "def sapin(h):\n",
    "    largeur = 1\n",
    "    nb_espaces = (largeur // 2) + (h-1)*2\n",
    "    for _ in range (h):\n",
    "        print(\" \"* nb_espaces,'^'* largeur)\n",
    "        print(\" \"* nb_espaces,'^'* largeur)\n",
    "        largeur += 2\n",
    "        nb_espaces -= 1\n",
    "    print(\" \"* (largeur // 2 - 1 + (h-1)), \"H\")\n",
    "    print(\" \"* (largeur // 2 - 1 + (h-1)), \"H\")\n",
    "\n",
    "\n",
    "sapin(10)"
   ]
  },
  {
   "cell_type": "code",
   "execution_count": 3,
   "metadata": {},
   "outputs": [
    {
     "data": {
      "text/plain": [
       "'^^^^'"
      ]
     },
     "execution_count": 3,
     "metadata": {},
     "output_type": "execute_result"
    }
   ],
   "source": [
    "'^'*4"
   ]
  },
  {
   "cell_type": "markdown",
   "metadata": {},
   "source": [
    "EXERCICE 2"
   ]
  },
  {
   "cell_type": "code",
   "execution_count": 46,
   "metadata": {},
   "outputs": [
    {
     "name": "stdout",
     "output_type": "stream",
     "text": [
      "j1 gagne !\n",
      "j2 gagne ! \n",
      "j1 gagne !\n",
      "j1 gagne !\n",
      "j2 gagne ! \n",
      "j2 gagne !\n",
      "j2 gagne !\n",
      "EGALITE\n",
      "j1 gagne !\n"
     ]
    },
    {
     "data": {
      "text/plain": [
       "(4, 4)"
      ]
     },
     "execution_count": 46,
     "metadata": {},
     "output_type": "execute_result"
    }
   ],
   "source": [
    "j1 = \"PPFCPFCPC\"\n",
    "j2 = \"CFPFFCPPF\"\n",
    "\n",
    "def pfc():\n",
    "    v1 = 0\n",
    "    v2 = 0\n",
    "    for i in range (len(j1)):\n",
    "        if j1[i] == j2[i]:\n",
    "            print('EGALITE')\n",
    "        elif j1[i] == 'P' and j2[i] == 'F':\n",
    "            print('j2 gagne ! ')\n",
    "            v2 += 1\n",
    "        elif j2[i] == 'P' and j1[i] == 'F':\n",
    "            print('j1 gagne !')\n",
    "            v1 += 1\n",
    "        elif j1[i] == 'F' and j2[i] == 'C':\n",
    "            print('j2 gagne !')\n",
    "            v2 += 1\n",
    "        elif j1[i] == 'C' and j2[i] == 'F':\n",
    "            print('j1 gagne !')\n",
    "            v1 += 1\n",
    "        elif j1[i] == 'P' and j2[i] == 'C':\n",
    "            print(\"j1 gagne !\")\n",
    "            v1 += 1\n",
    "        else :\n",
    "            print('j2 gagne !')\n",
    "            v2 += 1\n",
    "        \n",
    "    return v1, v2\n",
    "    \n",
    "pfc()"
   ]
  },
  {
   "cell_type": "code",
   "execution_count": 2,
   "metadata": {},
   "outputs": [
    {
     "name": "stdout",
     "output_type": "stream",
     "text": [
      "j1 gagne !\n",
      "j2 gagne ! \n",
      "j1 gagne !\n",
      "j1 gagne !\n",
      "j2 gagne ! \n",
      "j2 gagne ! \n",
      "j2 gagne ! \n",
      "EGALITE\n",
      "j1 gagne !\n"
     ]
    },
    {
     "data": {
      "text/plain": [
       "(4, 4)"
      ]
     },
     "execution_count": 2,
     "metadata": {},
     "output_type": "execute_result"
    }
   ],
   "source": [
    "j1 = \"PPFCPFCPC\"\n",
    "j2 = \"CFPFFCPPF\"\n",
    "\n",
    "def comparaison(choix1, choix2):\n",
    "    if choix1 == choix2:\n",
    "        return 'equals'\n",
    "    if (choix1 == 'P' and choix2 == 'F') \\\n",
    "            or (choix1 == 'C' and choix2 == 'P') \\\n",
    "            or (choix1 == 'F' and choix2 == 'C'):\n",
    "        return 'inferior'\n",
    "    else:\n",
    "        return 'superior'\n",
    "\n",
    "def pfc():\n",
    "    v1 = 0\n",
    "    v2 = 0\n",
    "    for i in range (len(j1)):\n",
    "        comp = comparaison(j1[i], j2[i])\n",
    "        if comp == 'equals':\n",
    "            print('EGALITE')\n",
    "        elif comp == 'inferior':\n",
    "            print('j2 gagne ! ')\n",
    "            v2 += 1\n",
    "        else: \n",
    "            print('j1 gagne !')\n",
    "            v1 += 1\n",
    "           \n",
    "    return v1, v2\n",
    "    \n",
    "pfc()"
   ]
  },
  {
   "cell_type": "markdown",
   "metadata": {},
   "source": [
    "EXERCICE 3"
   ]
  },
  {
   "cell_type": "code",
   "execution_count": 14,
   "metadata": {},
   "outputs": [
    {
     "name": "stdout",
     "output_type": "stream",
     "text": [
      "['mazarin', 'ministre', 'malade', 'méditait', 'même', 'moribond', 'malicieusement', 'mille', 'maltôtes']\n"
     ]
    },
    {
     "data": {
      "text/plain": [
       "True"
      ]
     },
     "execution_count": 14,
     "metadata": {},
     "output_type": "execute_result"
    }
   ],
   "source": [
    "#VINI, VIDI, VICI \n",
    "\n",
    "chaine = \"mazarin ministre malade méditait même moribond malicieusement mille maltôtes\"\n",
    "\n",
    "liste = chaine.split(' ')\n",
    "\n",
    "def EstTautogramme_v2(liste):\n",
    "    for i in range (len(liste)):\n",
    "        if liste[0][0] != liste[i][0]:\n",
    "            return False\n",
    "    return True\n",
    "\n",
    "print(liste)\n",
    "EstTautogramme_v2(liste)\n",
    "\n"
   ]
  },
  {
   "cell_type": "markdown",
   "metadata": {},
   "source": [
    "https://www.tutorialspoint.com/python/string_split.htm"
   ]
  },
  {
   "cell_type": "code",
   "execution_count": 4,
   "metadata": {},
   "outputs": [
    {
     "data": {
      "text/plain": [
       "['mazarin',\n",
       " 'ministre',\n",
       " 'malade',\n",
       " 'méditait',\n",
       " 'même',\n",
       " 'moribond',\n",
       " 'malicieusement',\n",
       " 'mille',\n",
       " 'maltôtes']"
      ]
     },
     "execution_count": 4,
     "metadata": {},
     "output_type": "execute_result"
    }
   ],
   "source": [
    "chaine.split()"
   ]
  },
  {
   "cell_type": "markdown",
   "metadata": {},
   "source": [
    "EXERCICE 4"
   ]
  },
  {
   "cell_type": "code",
   "execution_count": null,
   "metadata": {
    "collapsed": true
   },
   "outputs": [],
   "source": [
    "def NumerotationShadok(nombre):\n",
    "    div = nombre // 4\n",
    "    reste = nombre - (div*4)\n",
    "    Ga = 0\n",
    "    Bu = 1\n",
    "    Zo = 2\n",
    "    Meu = 3\n",
    "    if reste == 0:\n",
    "        \n",
    "#...I need some help..."
   ]
  }
 ],
 "metadata": {
  "kernelspec": {
   "display_name": "Python 3",
   "language": "python",
   "name": "python3"
  },
  "language_info": {
   "codemirror_mode": {
    "name": "ipython",
    "version": 3
   },
   "file_extension": ".py",
   "mimetype": "text/x-python",
   "name": "python",
   "nbconvert_exporter": "python",
   "pygments_lexer": "ipython3",
   "version": "3.6.5"
  }
 },
 "nbformat": 4,
 "nbformat_minor": 2
}
